{
 "cells": [
  {
   "cell_type": "markdown",
   "metadata": {},
   "source": [
    "# Kellogg Data Cloud"
   ]
  },
  {
   "cell_type": "markdown",
   "metadata": {},
   "source": [
    ":::{admonition} Data Workflow\n",
    ":class: note\n",
    "\n",
    "```{figure} ./images/data-workflow-kdc.png\n",
    "---\n",
    "width: 900px\n",
    "name: data-workflow-kdc\n",
    "---\n",
    "```\n",
    ":::"
   ]
  },
  {
   "cell_type": "markdown",
   "metadata": {},
   "source": [
    "## Accessing Datasets\n",
    "\n",
    ":::{admonition} [KDC](https://www.kellogg.northwestern.edu/academics-research/research-support/computing/kellogg-data-cloud.aspx)\n",
    ":class: note\n",
    "\n",
    "<!-- ```{figure} ./images/KDC-1.png\n",
    "---\n",
    "width: 900px\n",
    "name: KDC-1\n",
    "---\n",
    "``` -->\n",
    "\n",
    "```{figure} ./images/KDC-2.png\n",
    "---\n",
    "width: 900px\n",
    "name: KDC-2\n",
    "---\n",
    "```"
   ]
  },
  {
   "cell_type": "markdown",
   "metadata": {},
   "source": []
  },
  {
   "cell_type": "markdown",
   "metadata": {},
   "source": [
    "Use your netid to log in on the [Northwestern AWS Access Portal](https://nu-sso.awsapps.com/start/#/?tab=accounts)\n",
    ":::\n",
    "\n",
    "\n",
    ":::{admonition} Numerator Dataset\n",
    ":class: note\n",
    "For this workshop, we will be exploring consumer panel data in the [Numerator](https://www.numerator.com/) dataset\n",
    "\n",
    "```{figure} ./images/numerator-website.png\n",
    "---\n",
    "width: 900px\n",
    "name: numerator-website\n",
    "---\n",
    "```\n",
    ":::"
   ]
  },
  {
   "cell_type": "markdown",
   "metadata": {},
   "source": [
    ":::{admonition} Numerator dataset on KDC\n",
    "```{figure} ./images/numerator-s3.png\n",
    "---\n",
    "width: 900px\n",
    "name: numerator-s3\n",
    "---\n",
    "```\n",
    ":::"
   ]
  },
  {
   "cell_type": "markdown",
   "metadata": {},
   "source": [
    "## Writing SQL Queries"
   ]
  },
  {
   "cell_type": "markdown",
   "metadata": {},
   "source": [
    ":::{admonition} Basic structure of a SQL statement\n",
    "```sql\n",
    "SELECT <column expr>        -- required\n",
    "FROM <table expr>           -- required\n",
    "JOIN <another table>        -- optional\n",
    "WHERE <boolean condition>   -- optional\n",
    "GROUP BY <columns>          -- optional\n",
    "ORDER BY <columns>          -- optional\n",
    ";\n",
    "```\n",
    "[Northwestern Research Computing Guide to SQL](https://sites.northwestern.edu/researchcomputing/resource-guides/resource-guide-sql/)\n",
    ":::\n",
    "\n",
    ":::{admonition} Athena Query Console\n",
    ":class: note\n",
    "```{figure} ./images/numerator-athena-1.png\n",
    "---\n",
    "width: 900px\n",
    "name: numerator-athena-1\n",
    "---\n",
    "```\n",
    ":::"
   ]
  },
  {
   "cell_type": "markdown",
   "metadata": {},
   "source": [
    ":::{admonition} SQL numerator example: counting rows\n",
    "```sql\n",
    "SELECT COUNT(*) \n",
    "FROM standard_nmr_feed_fact_table\n",
    "; -- As of 2024-06-19: 5,444,236,053\n",
    "```\n",
    "Response shows there are approximately 5.4 billion rows in this table\n",
    ":::"
   ]
  },
  {
   "cell_type": "markdown",
   "metadata": {},
   "source": [
    ":::{important} \n",
    "The structure of your SQL query can dramatically impact efficiency. For large datasets a well structured query can dramatically improve speed. Sometimes it can make the difference between success and failure.\n",
    "\n",
    "Two important principles for efficiently using KDC datasets:\n",
    "\n",
    "- Only select the columns you need\n",
    "- Only select the rows you need\n",
    "- Use field partitions in your \"WHERE\" clause when possible\n",
    ":::"
   ]
  },
  {
   "cell_type": "markdown",
   "metadata": {},
   "source": [
    ":::{admonition} Which query is more efficient?\n",
    ":class: tip\n",
    "*Goal: select all user_ids and their postal codes*\n",
    "\n",
    "```sql\n",
    "-- Query 1\n",
    "SELECT * -- selects all columns, including user_id and postal_code\n",
    "FROM standard_nmr_feed_people_table\n",
    ";\n",
    "```\n",
    "\n",
    "```sql\n",
    "-- Query 2\n",
    "SELECT user_id, postal_code\n",
    "FROM standard_nmr_feed_people_table\n",
    ";\n",
    "```\n",
    ":::"
   ]
  },
  {
   "cell_type": "markdown",
   "metadata": {},
   "source": [
    ":::{admonition} Answer\n",
    ":class: toggle\n",
    "- *Query 1*: Runtime 34 seconds, Data scanned 72.6 MB\n",
    "- *Query 2*: Runtime 5.4 seconds, Data scanned 44.4 MB\n",
    "\n",
    "<span style=\"color:purple\"><em>Select just the columns you need!</em></span>\n",
    ":::"
   ]
  },
  {
   "cell_type": "markdown",
   "metadata": {},
   "source": [
    ":::{admonition} How much data will these queries scan (the entire table, part of the table)?\n",
    ":class: tip\n",
    "\n",
    "*Goal: select all items from the \"books\" sector*\n",
    "\n",
    "```sql\n",
    "-- Query 1\n",
    "SELECT *\n",
    "FROM standard_nmr_feed_item_table\n",
    "WHERE sector_id = 'isc_books' -- this is a legitimate sector designation\n",
    ";\n",
    "```\n",
    "\n",
    "```sql\n",
    "-- Query 2\n",
    "SELECT *\n",
    "FROM standard_nmr_feed_item_table\n",
    "; -- pull all data, then post-process by filtering rows for sector_id = 'isc_books'\n",
    "```\n",
    "\n",
    "```sql\n",
    "-- Query 3\n",
    "SELECT *\n",
    "FROM standard_nmr_feed_item_table\n",
    "WHERE sector_id = 'books' -- This is a typo, there is no 'books' sector\n",
    ";\n",
    "```\n",
    ":::"
   ]
  },
  {
   "cell_type": "markdown",
   "metadata": {},
   "source": [
    ":::{admonition} Answer\n",
    ":class: toggle\n",
    "- *Query 1*: Run time 10.4 seconds, Data scanned 132.3 MB\n",
    "- *Query 2*: Run time 17 min 40 sec, Data scanned: 18.11 GB\n",
    "- *Query 3*: Run time 71 ms, Data scanned: None!\n",
    "\n",
    "<span style=\"color:purple\"><em>Use partitioned fields in your \"WHERE\" statement when possible!</em></span>\n",
    ":::"
   ]
  },
  {
   "cell_type": "markdown",
   "metadata": {},
   "source": [
    ":::{admonition} Which query is better?\n",
    ":class: tip\n",
    "\n",
    "*Goal: select a sample of purchase fact rows for doing analysis\n",
    "\n",
    "```sql\n",
    "-- Query 1\n",
    "SELECT FACT.*\n",
    "FROM standard_nmr_feed_fact_table AS FACT\n",
    "; -- download table and sample using code\n",
    "```\n",
    "\n",
    "```sql\n",
    "-- Query 2\n",
    "SELECT FACT.*\n",
    "FROM standard_nmr_feed_fact_table AS FACT\n",
    "LIMIT 5000000 -- take first 5 million rows\n",
    ";\n",
    "```\n",
    "\n",
    "```sql\n",
    "-- Query 3\n",
    "SELECT FACT.*\n",
    "FROM standard_nmr_feed_fact_table AS FACT\n",
    "TABLESAMPLE SYSTEM(0.1) -- random sampling\n",
    ";\n",
    "```\n",
    "\n",
    "```sql\n",
    "-- Query 4\n",
    "SELECT FACT.*\n",
    "FROM standard_nmr_feed_fact_table AS FACT\n",
    "TABLESAMPLE BERNOULLI(0.1) -- random sampling\n",
    ";\n",
    "```\n",
    ":::"
   ]
  },
  {
   "cell_type": "markdown",
   "metadata": {},
   "source": [
    ":::{admonition} Answer\n",
    ":class: toggle\n",
    "- *Query 1*: Not going to run this one -- all the data are already on KLC...\n",
    "- *Query 2*: Run time 35.6 sec, Data scanned 1.26 GB\n",
    "- *Query 3*: Run time: 20.9 sec, Data scanned: 120.22 MB\n",
    "- *Query 4*: Run time 1 min 46 seconds, Data scanned: 271.26 GB (entire table)\n",
    ":::"
   ]
  },
  {
   "cell_type": "markdown",
   "metadata": {},
   "source": [
    "## Automation with Scripting"
   ]
  },
  {
   "cell_type": "markdown",
   "metadata": {},
   "source": [
    ":::{admonition} GUI vs. Scripting\n",
    ":class: important\n",
    "- Graphical User Interfaces (GUIs) like the AWS Athena console are convenient for exploration and development, but not so great for reproducibility\n",
    "\n",
    "Advantages of scripts for reproducibility:\n",
    "\n",
    "- Scripts store your workflow in a file as a sequence of commands.\n",
    "- Scripts lay out your data workflow logic, including logging and testing\n",
    "- Scripts can be executed on the command line, or with an automated scheduler.\n",
    "- Scripts are just text files that can be put into version control\n",
    ":::"
   ]
  },
  {
   "cell_type": "markdown",
   "metadata": {},
   "source": [
    ":::{admonition} Connect to KDC via code\n",
    ":class: note\n",
    "There are several ways to connect to KDC via code, including using the [AWS CLI](https://docs.aws.amazon.com/cli/latest/reference/athena/) or using [ODBC](https://docs.aws.amazon.com/athena/latest/ug/connect-with-odbc.html). We've created a module for KLC that makes it easy to run SQL queries on KDC databases, including in parallel if desired\n",
    ":::"
   ]
  },
  {
   "cell_type": "markdown",
   "metadata": {},
   "source": [
    ":::{admonition} KDC utilities module\n",
    ":class: note\n",
    "\n",
    "```{figure} ./images/kdcutils-1.png\n",
    "---\n",
    "width: 900px\n",
    "name: data-workflow-kdc\n",
    "---\n",
    "```\n",
    ":::"
   ]
  },
  {
   "cell_type": "markdown",
   "metadata": {},
   "source": [
    ":::{admonition} Run SQL queries on the command line, log and test results\n",
    ":class: note\n",
    "\n",
    "```{figure} ./images/kdcutils-2.png\n",
    "---\n",
    "width: 900px\n",
    "name: data-workflow-kdc\n",
    "---\n",
    "```\n",
    ":::"
   ]
  },
  {
   "cell_type": "markdown",
   "metadata": {},
   "source": [
    ":::{admonition} Instead of \"for loops\" in code, use templates over partitioned fields\n",
    ":class: note\n",
    "\n",
    "```{figure} ./images/kdcutils-3.png\n",
    "---\n",
    "width: 900px\n",
    "name: data-workflow-kdc\n",
    "---\n",
    "```\n",
    ":::"
   ]
  },
  {
   "cell_type": "markdown",
   "metadata": {},
   "source": [
    ":::{admonition} Template subsitution generates multiple queries\n",
    ":class: note\n",
    "\n",
    "```{figure} ./images/kdcutils-4.png\n",
    "---\n",
    "width: 900px\n",
    "name: data-workflow-kdc\n",
    "---\n",
    "```\n",
    ":::"
   ]
  },
  {
   "cell_type": "markdown",
   "metadata": {},
   "source": [
    ":::{admonition} Use bash scripts to create a reproducible and testable workflow\n",
    ":class: note\n",
    "\n",
    "```{figure} ./images/kdcutils-5.png\n",
    "---\n",
    "width: 900px\n",
    "name: data-workflow-kdc\n",
    "---\n",
    "```\n",
    ":::"
   ]
  },
  {
   "cell_type": "markdown",
   "metadata": {},
   "source": [
    ":::{admonition} Scale to multiple nodes when necessary\n",
    ":class: note\n",
    "\n",
    "```{figure} ./images/kdcutils-6.png\n",
    "---\n",
    "width: 900px\n",
    "name: data-workflow-kdc\n",
    "---\n",
    "```\n",
    ":::"
   ]
  }
 ],
 "metadata": {
  "kernelspec": {
   "display_name": "jb-env",
   "language": "python",
   "name": "python3"
  },
  "language_info": {
   "codemirror_mode": {
    "name": "ipython",
    "version": 3
   },
   "file_extension": ".py",
   "mimetype": "text/x-python",
   "name": "python",
   "nbconvert_exporter": "python",
   "pygments_lexer": "ipython3",
   "version": "3.1.-1"
  }
 },
 "nbformat": 4,
 "nbformat_minor": 2
}
