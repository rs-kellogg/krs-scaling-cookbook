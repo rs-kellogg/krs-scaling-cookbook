{
 "cells": [
  {
   "cell_type": "markdown",
   "metadata": {},
   "source": [
    "# Kellogg Data Cloud"
   ]
  },
  {
   "cell_type": "markdown",
   "metadata": {},
   "source": [
    ":::{admonition} Data Workflow\n",
    ":class: note\n",
    "\n",
    "```{figure} ./images/data-workflow-kdc.png\n",
    "---\n",
    "width: 900px\n",
    "name: data-workflow-kdc\n",
    "---\n",
    "```\n",
    ":::"
   ]
  },
  {
   "cell_type": "markdown",
   "metadata": {},
   "source": [
    "## Accessing Datasets\n",
    "\n",
    ":::{admonition} [KDC](https://www.kellogg.northwestern.edu/academics-research/research-support/computing/kellogg-data-cloud.aspx)\n",
    ":class: note\n",
    "\n",
    "<!-- ```{figure} ./images/KDC-1.png\n",
    "---\n",
    "width: 900px\n",
    "name: KDC-1\n",
    "---\n",
    "``` -->\n",
    "\n",
    "```{figure} ./images/KDC-2.png\n",
    "---\n",
    "width: 900px\n",
    "name: KDC-2\n",
    "---\n",
    "```"
   ]
  },
  {
   "cell_type": "markdown",
   "metadata": {},
   "source": []
  },
  {
   "cell_type": "markdown",
   "metadata": {},
   "source": [
    "Use your netid to log in on the [Northwestern AWS Access Portal](https://nu-sso.awsapps.com/start/#/?tab=accounts)\n",
    ":::\n",
    "\n",
    "\n",
    ":::{admonition} Numerator Dataset\n",
    ":class: note\n",
    "For this workshop, we will be exploring consumer panel data in the [Numerator](https://www.numerator.com/) dataset\n",
    "\n",
    "```{figure} ./images/numerator-website.png\n",
    "---\n",
    "width: 900px\n",
    "name: numerator-website\n",
    "---\n",
    "```\n",
    ":::"
   ]
  },
  {
   "cell_type": "markdown",
   "metadata": {},
   "source": [
    ":::{admonition} Numerator dataset on KDC and KLC\n",
    "```{figure} ./images/numerator-s3.png\n",
    "---\n",
    "width: 900px\n",
    "name: numerator-s3\n",
    "---\n",
    "```\n",
    ":::"
   ]
  },
  {
   "cell_type": "markdown",
   "metadata": {},
   "source": []
  }
 ],
 "metadata": {
  "kernelspec": {
   "display_name": "jb-env",
   "language": "python",
   "name": "python3"
  },
  "language_info": {
   "codemirror_mode": {
    "name": "ipython",
    "version": 3
   },
   "file_extension": ".py",
   "mimetype": "text/x-python",
   "name": "python",
   "nbconvert_exporter": "python",
   "pygments_lexer": "ipython3",
   "version": "3.11.9"
  }
 },
 "nbformat": 4,
 "nbformat_minor": 2
}
