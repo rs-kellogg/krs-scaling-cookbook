{
 "cells": [
  {
   "cell_type": "markdown",
   "metadata": {},
   "source": [
    "# Kellogg Data Cloud"
   ]
  },
  {
   "cell_type": "markdown",
   "metadata": {},
   "source": [
    ":::{admonition} Data Workflow\n",
    ":class: note\n",
    "\n",
    "```{figure} ./images/data-workflow-kdc.png\n",
    "---\n",
    "width: 900px\n",
    "name: data-workflow-kdc\n",
    "---\n",
    "```\n",
    ":::"
   ]
  },
  {
   "cell_type": "markdown",
   "metadata": {},
   "source": [
    "## Accessing Datasets\n",
    "\n",
    ":::{admonition} [KDC](https://www.kellogg.northwestern.edu/academics-research/research-support/computing/kellogg-data-cloud.aspx)\n",
    ":class: note\n",
    "\n",
    "<!-- ```{figure} ./images/KDC-1.png\n",
    "---\n",
    "width: 900px\n",
    "name: KDC-1\n",
    "---\n",
    "``` -->\n",
    "\n",
    "```{figure} ./images/KDC-2.png\n",
    "---\n",
    "width: 900px\n",
    "name: KDC-2\n",
    "---\n",
    "```"
   ]
  },
  {
   "cell_type": "markdown",
   "metadata": {},
   "source": []
  },
  {
   "cell_type": "markdown",
   "metadata": {},
   "source": [
    "Use your netid to log in on the [Northwestern AWS Access Portal](https://nu-sso.awsapps.com/start/#/?tab=accounts)\n",
    ":::\n",
    "\n",
    "\n",
    ":::{admonition} Numerator Dataset\n",
    ":class: note\n",
    "For this workshop, we will be exploring consumer panel data in the [Numerator](https://www.numerator.com/) dataset\n",
    "\n",
    "```{figure} ./images/numerator-website.png\n",
    "---\n",
    "width: 900px\n",
    "name: numerator-website\n",
    "---\n",
    "```\n",
    ":::"
   ]
  },
  {
   "cell_type": "markdown",
   "metadata": {},
   "source": [
    ":::{admonition} Numerator dataset on KDC and KLC\n",
    "```{figure} ./images/numerator-s3.png\n",
    "---\n",
    "width: 900px\n",
    "name: numerator-s3\n",
    "---\n",
    "```\n",
    ":::"
   ]
  },
  {
   "cell_type": "markdown",
   "metadata": {},
   "source": [
    "## Writing SQL Queries"
   ]
  },
  {
   "cell_type": "markdown",
   "metadata": {},
   "source": [
    ":::{admonition} Basic structure of a SQL statement\n",
    "```sql\n",
    "SELECT <column expr>        -- required\n",
    "FROM <table expr>           -- required\n",
    "JOIN <another table>        -- optional\n",
    "WHERE <boolean condition>   -- optional\n",
    "GROUP BY <columns>          -- optional\n",
    "ORDER BY <columns>          -- optional\n",
    ";\n",
    "```\n",
    "[Northwestern Research Computing Guide to SQL](https://sites.northwestern.edu/researchcomputing/resource-guides/resource-guide-sql/)\n",
    ":::\n",
    "\n",
    ":::{admonition} Athena Query Console\n",
    ":class: note\n",
    "```{figure} ./images/numerator-athena-1.png\n",
    "---\n",
    "width: 900px\n",
    "name: numerator-athena-1\n",
    "---\n",
    "```\n",
    ":::"
   ]
  },
  {
   "cell_type": "markdown",
   "metadata": {},
   "source": [
    ":::{admonition} SQL numerator example: counting rows\n",
    "```sql\n",
    "SELECT COUNT(*) \n",
    "FROM standard_nmr_feed_fact_table\n",
    "; -- As of 2024-06-19: 5,444,236,053\n",
    "```\n",
    "Response shows there are approximately 5.4 billion rows in this table\n",
    ":::"
   ]
  },
  {
   "cell_type": "markdown",
   "metadata": {},
   "source": [
    ":::{important} \n",
    "The structure of your SQL query can dramatically impact efficiency. For large datasets a well structured query can dramatically improve speed. Sometimes it can make the difference between success and failure.\n",
    ":::"
   ]
  },
  {
   "cell_type": "markdown",
   "metadata": {},
   "source": [
    ":::{admonition} Which query is better?\n",
    ":class: tip\n",
    "*Goal: select all users and their postal codes*\n",
    "\n",
    "```sql\n",
    "SELECT *\n",
    "FROM standard_nmr_feed_person_table\n",
    ";\n",
    "```\n",
    "\n",
    "```sql\n",
    "SELECT user_id, postal_code\n",
    "FROM standard_nmr_feed_person_table\n",
    ";\n",
    "```\n",
    ":::"
   ]
  },
  {
   "cell_type": "markdown",
   "metadata": {},
   "source": [
    "```{admonition} Answer\n",
    ":class: toggle\n",
    "Answer\n",
    "\n",
    "```"
   ]
  },
  {
   "cell_type": "markdown",
   "metadata": {},
   "source": [
    ":::{admonition} How much data will be scanned?\n",
    ":class: tip\n",
    "\n",
    "*Goal: select all items from the \"cheese\" category*\n",
    "\n",
    "```sql\n",
    "SELECT *\n",
    "FROM standard_nmr_feed_item_table\n",
    "WHERE majorcat_id = 'isc_gro_dai_cheese'\n",
    ";\n",
    "```\n",
    ":::"
   ]
  },
  {
   "cell_type": "markdown",
   "metadata": {},
   "source": [
    "```{admonition} Answer\n",
    ":class: toggle\n",
    "Answer\n",
    "```"
   ]
  },
  {
   "cell_type": "markdown",
   "metadata": {},
   "source": [
    ":::{admonition} Which query is better?\n",
    ":class: tip\n",
    "\n",
    "*Goal: select all users who have bought items from the \"cheese\" category*\n",
    "\n",
    "```sql\n",
    "SELECT DISTINCT FACT.user_id\n",
    "FROM standard_nmr_feed_fact_table AS FACT\n",
    "INNER JOIN\n",
    "    (SELECT *\n",
    "    FROM standard_nmr_feed_item_table\n",
    "    WHERE majorcat_id = 'isc_gro_dai_cheese') AS ITEM\n",
    "ON ITEM.item_id = FACT.item_id\n",
    ";\n",
    "```\n",
    "\n",
    "```sql\n",
    "SELECT FACT.*\n",
    "FROM standard_nmr_feed_fact_table AS FACT\n",
    "INNER JOIN\n",
    "    (SELECT *\n",
    "    FROM standard_nmr_feed_item_table) AS ITEM\n",
    "ON ITEM.item_id = FACT.item_id\n",
    "WHERE ITEM.majorcat_id = 'isc_gro_dai_cheese'\n",
    ";\n",
    "```\n",
    ":::"
   ]
  },
  {
   "cell_type": "markdown",
   "metadata": {},
   "source": [
    "```{admonition} Answer\n",
    ":class: toggle\n",
    "Answer\n",
    "\n",
    "```"
   ]
  },
  {
   "cell_type": "markdown",
   "metadata": {},
   "source": [
    ":::{admonition} What is wrong with this query?\n",
    ":class: tip\n",
    "\n",
    "*Goal: select all purchase facts*\n",
    "\n",
    "```sql\n",
    "SELECT *\n",
    "FROM standard_nmr_feed_fact_table\n",
    ";\n",
    "```\n",
    ":::"
   ]
  },
  {
   "cell_type": "markdown",
   "metadata": {},
   "source": [
    "```{admonition} Answer\n",
    ":class: toggle\n",
    "Answer\n",
    "\n",
    "```"
   ]
  },
  {
   "cell_type": "markdown",
   "metadata": {},
   "source": [
    "## Automation with Scripting\n",
    "\n",
    "- Athena CLI\n",
    "- Python SDK\n",
    "- Command line arguments\n",
    "- Testing and logging\n",
    "- Parallelizing Athena queries"
   ]
  }
 ],
 "metadata": {
  "kernelspec": {
   "display_name": "jb-env",
   "language": "python",
   "name": "python3"
  },
  "language_info": {
   "codemirror_mode": {
    "name": "ipython",
    "version": 3
   },
   "file_extension": ".py",
   "mimetype": "text/x-python",
   "name": "python",
   "nbconvert_exporter": "python",
   "pygments_lexer": "ipython3",
   "version": "3.11.9"
  }
 },
 "nbformat": 4,
 "nbformat_minor": 2
}
