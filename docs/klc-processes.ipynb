{
 "cells": [
  {
   "cell_type": "markdown",
   "metadata": {},
   "source": [
    "# KLC - Process Monitoring"
   ]
  },
  {
   "cell_type": "markdown",
   "metadata": {},
   "source": [
    ":::{admonition} Monitoring CPU and Memory\n",
    ":class: important\n",
    "\n",
    "[Video demonstration](https://nuwildcat.sharepoint.com/sites/KSM-RSDataDocumentation/_layouts/15/stream.aspx?id=%2Fsites%2FKSM%2DRSDataDocumentation%2FShared%20Documents%2FData%20Skills%20Asynchronous%20Videos%2Fmonitoring%20jobs%20on%20KLC%2Emp4&nav=eyJwbGF5YmFja09wdGlvbnMiOnsic3RhcnRUaW1lSW5TZWNvbmRzIjoxMS4wMjI0NDR9fQ%3D%3D&referrer=StreamWebApp%2EWeb&referrerScenario=AddressBarCopied%2Eview%2E582b4f25%2Dc8b9%2D41d5%2D8d69%2D364ffa764605)\n",
    ":::"
   ]
  },
  {
   "cell_type": "markdown",
   "metadata": {},
   "source": []
  }
 ],
 "metadata": {
  "kernelspec": {
   "display_name": "jb-env",
   "language": "python",
   "name": "python3"
  },
  "language_info": {
   "codemirror_mode": {
    "name": "ipython",
    "version": 3
   },
   "file_extension": ".py",
   "mimetype": "text/x-python",
   "name": "python",
   "nbconvert_exporter": "python",
   "pygments_lexer": "ipython3",
   "version": "3.11.9"
  }
 },
 "nbformat": 4,
 "nbformat_minor": 2
}
